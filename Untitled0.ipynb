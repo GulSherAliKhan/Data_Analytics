{
  "nbformat": 4,
  "nbformat_minor": 0,
  "metadata": {
    "colab": {
      "provenance": []
    },
    "kernelspec": {
      "name": "python3",
      "display_name": "Python 3"
    },
    "language_info": {
      "name": "python"
    }
  },
  "cells": [
    {
      "cell_type": "code",
      "execution_count": 3,
      "metadata": {
        "colab": {
          "base_uri": "https://localhost:8080/"
        },
        "id": "NXcm39W2n9wO",
        "outputId": "b36c26de-24cc-4117-8138-c24660f622a8"
      },
      "outputs": [
        {
          "output_type": "stream",
          "name": "stdout",
          "text": [
            "Hello World\n"
          ]
        }
      ],
      "source": [
        "print('Hello World')"
      ]
    },
    {
      "cell_type": "code",
      "source": [
        "5**2"
      ],
      "metadata": {
        "colab": {
          "base_uri": "https://localhost:8080/"
        },
        "id": "bGIk0PQdpIqi",
        "outputId": "e6343585-ae19-401b-a62e-c63b21fc3e57"
      },
      "execution_count": 4,
      "outputs": [
        {
          "output_type": "execute_result",
          "data": {
            "text/plain": [
              "25"
            ]
          },
          "metadata": {},
          "execution_count": 4
        }
      ]
    },
    {
      "cell_type": "code",
      "source": [
        "print (2-5)"
      ],
      "metadata": {
        "colab": {
          "base_uri": "https://localhost:8080/"
        },
        "id": "tckFl8aopWpP",
        "outputId": "19fff01b-72b9-4a99-d2c6-58a9425874e3"
      },
      "execution_count": 5,
      "outputs": [
        {
          "output_type": "stream",
          "name": "stdout",
          "text": [
            "-3\n"
          ]
        }
      ]
    },
    {
      "cell_type": "code",
      "source": [
        "print (100 * ((1.1))**7)"
      ],
      "metadata": {
        "colab": {
          "base_uri": "https://localhost:8080/"
        },
        "id": "IMdeBU22pweP",
        "outputId": "a0a66ab0-e72c-4ad0-85e5-6851d2f3a039"
      },
      "execution_count": 9,
      "outputs": [
        {
          "output_type": "stream",
          "name": "stdout",
          "text": [
            "194.87171000000012\n"
          ]
        }
      ]
    },
    {
      "cell_type": "code",
      "source": [
        "items = 10\n",
        "price = 2\n",
        "returned = 3\n",
        "print(\"My remaining items are\", items-returned)"
      ],
      "metadata": {
        "colab": {
          "base_uri": "https://localhost:8080/"
        },
        "id": "1DnptRJYrRsQ",
        "outputId": "4de118e8-305d-4c0e-a602-8ca6bf6a9086"
      },
      "execution_count": 10,
      "outputs": [
        {
          "output_type": "stream",
          "name": "stdout",
          "text": [
            "My remaining items are 7\n"
          ]
        }
      ]
    },
    {
      "cell_type": "markdown",
      "source": [
        "#### Write three strings, set two of them as variables 'first_sent' and \"second_sent\"\n",
        "#### Write a comment above each variable describing it\n",
        "#### create a variable of age and print it between the sentence - \"This person is 17 years old\""
      ],
      "metadata": {
        "id": "rOZV9zUzts28"
      }
    },
    {
      "cell_type": "code",
      "source": [
        "first_sent= (\"Lets learn python together\")  #first veriable"
      ],
      "metadata": {
        "id": "HDcCGmNUt5t1"
      },
      "execution_count": 11,
      "outputs": []
    },
    {
      "cell_type": "code",
      "source": [
        "sec_sent= (\"Learning python is fun\")  #second variable"
      ],
      "metadata": {
        "id": "k29cB_SQuror"
      },
      "execution_count": 12,
      "outputs": []
    },
    {
      "cell_type": "code",
      "source": [
        "print(\"Hello World\")"
      ],
      "metadata": {
        "colab": {
          "base_uri": "https://localhost:8080/"
        },
        "id": "_jqJYjeUur12",
        "outputId": "793748c8-5f26-4fba-a072-68de4f2fe7df"
      },
      "execution_count": 13,
      "outputs": [
        {
          "output_type": "stream",
          "name": "stdout",
          "text": [
            "Hello World\n"
          ]
        }
      ]
    },
    {
      "cell_type": "code",
      "source": [
        "print(first_sent)\n",
        "print (sec_sent)"
      ],
      "metadata": {
        "colab": {
          "base_uri": "https://localhost:8080/"
        },
        "id": "lBHLs2WHu-Sq",
        "outputId": "cd407cd2-7581-45a6-a0f9-cfebfb17f3da"
      },
      "execution_count": 16,
      "outputs": [
        {
          "output_type": "stream",
          "name": "stdout",
          "text": [
            "Lets learn python together\n",
            "Learning python is fun\n"
          ]
        }
      ]
    },
    {
      "cell_type": "code",
      "source": [
        "age = 17\n",
        "print(\"This person is \", age , \"years old\")"
      ],
      "metadata": {
        "colab": {
          "base_uri": "https://localhost:8080/"
        },
        "id": "wm94PN_ZvRo3",
        "outputId": "bc3816b1-e882-439d-c8ef-28030860b2cb"
      },
      "execution_count": 17,
      "outputs": [
        {
          "output_type": "stream",
          "name": "stdout",
          "text": [
            "This person is  17 years old\n"
          ]
        }
      ]
    },
    {
      "cell_type": "code",
      "source": [
        "age = 17\n",
        "print(f\"This person is {age} years old\")"
      ],
      "metadata": {
        "id": "6Woyq-NBwyPv",
        "outputId": "cdd88c5f-5538-4ae3-a108-fe7888ac7a72",
        "colab": {
          "base_uri": "https://localhost:8080/"
        }
      },
      "execution_count": 18,
      "outputs": [
        {
          "output_type": "stream",
          "name": "stdout",
          "text": [
            "This person is 17 years old\n"
          ]
        }
      ]
    }
  ]
}